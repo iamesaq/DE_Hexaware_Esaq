{
 "cells": [
  {
   "cell_type": "code",
   "execution_count": 0,
   "metadata": {
    "application/vnd.databricks.v1+cell": {
     "cellMetadata": {
      "byteLimit": 2048000,
      "rowLimit": 10000
     },
     "inputWidgets": {},
     "nuid": "a121b3d1-9ed1-4ca6-a43e-a9112af0d8ae",
     "showTitle": false,
     "tableResultSettingsMap": {},
     "title": ""
    }
   },
   "outputs": [],
   "source": [
    "spark.conf.set(\n",
    "    \"fs.azure.account.key.projectadf.dfs.core.windows.net\",\n",
    "    \"\")"
   ]
  },
  {
   "cell_type": "code",
   "execution_count": 0,
   "metadata": {
    "application/vnd.databricks.v1+cell": {
     "cellMetadata": {
      "byteLimit": 2048000,
      "rowLimit": 10000
     },
     "inputWidgets": {},
     "nuid": "b1bdce55-545f-415a-a36b-84351efb13af",
     "showTitle": false,
     "tableResultSettingsMap": {},
     "title": ""
    }
   },
   "outputs": [],
   "source": [
    "from pyspark.sql.functions import col, to_timestamp, concat, date_format, current_timestamp\n",
    "appointments_raw_df = spark.read.table(\"healthcare_raw.appointments\")"
   ]
  },
  {
   "cell_type": "code",
   "execution_count": 0,
   "metadata": {
    "application/vnd.databricks.v1+cell": {
     "cellMetadata": {
      "byteLimit": 2048000,
      "rowLimit": 10000
     },
     "inputWidgets": {},
     "nuid": "f7dd8db0-5205-4f82-9a32-622dc10edb0d",
     "showTitle": false,
     "tableResultSettingsMap": {},
     "title": ""
    }
   },
   "outputs": [],
   "source": [
    "from pyspark.sql.functions import col, to_date, to_timestamp, date_format, dayofmonth, current_timestamp\n",
    "\n",
    "appointments_cleaned_df = (appointments_raw_df\n",
    "    # Keep Date column as-is (string from CSV)\n",
    "    .withColumn(\"appointment_date\", col(\"Date\"))\n",
    "    \n",
    "    # Convert to proper date for extracting parts\n",
    "    .withColumn(\"date_parsed\", to_date(col(\"Date\"), \"dd-MM-yyyy\"))\n",
    "    \n",
    "    # Extract year, month, and day\n",
    "    .withColumn(\"appointment_year\", date_format(col(\"date_parsed\"), \"yyyy\"))\n",
    "    .withColumn(\"appointment_month\", date_format(col(\"date_parsed\"), \"MM\"))\n",
    "    .withColumn(\"appointment_day\", dayofmonth(col(\"date_parsed\")))\n",
    "    \n",
    "    # Parse Time column (ISO timestamp)\n",
    "    .withColumn(\"appointment_timestamp\", to_timestamp(col(\"Time\"), \"yyyy-MM-dd'T'HH:mm:ss.SSS'Z'\"))\n",
    "    \n",
    "    # Add ingestion timestamp\n",
    "    .withColumn(\"ingestion_date\", current_timestamp())\n",
    "    \n",
    "    # Deduplicate\n",
    "    .dropDuplicates([\"AppointmentID\"])\n",
    "    \n",
    "    # Final selection\n",
    "    .select(\n",
    "        col(\"AppointmentID\").alias(\"appointment_id\"),\n",
    "        \"appointment_timestamp\",\n",
    "        \"appointment_date\",       # original string from CSV\n",
    "        \"appointment_year\",\n",
    "        \"appointment_month\",\n",
    "        \"appointment_day\",        # new day column (int 1–31)\n",
    "        col(\"PatientID\").alias(\"patient_id\"),\n",
    "        col(\"DoctorID\").alias(\"doctor_id\"),\n",
    "        \"ingestion_date\"\n",
    "    )\n",
    ")\n"
   ]
  },
  {
   "cell_type": "code",
   "execution_count": 0,
   "metadata": {
    "application/vnd.databricks.v1+cell": {
     "cellMetadata": {
      "byteLimit": 2048000,
      "rowLimit": 10000
     },
     "inputWidgets": {},
     "nuid": "3d149284-09a1-4450-9da1-da3b8768b154",
     "showTitle": false,
     "tableResultSettingsMap": {},
     "title": ""
    }
   },
   "outputs": [],
   "source": [
    "(appointments_cleaned_df.write\n",
    "    .mode(\"overwrite\")\n",
    "    .format(\"delta\")\n",
    "    .partitionBy(\"appointment_year\")\n",
    "    .saveAsTable(\"healthcare_processed.appointment\"))"
   ]
  },
  {
   "cell_type": "code",
   "execution_count": 0,
   "metadata": {
    "application/vnd.databricks.v1+cell": {
     "cellMetadata": {
      "byteLimit": 2048000,
      "rowLimit": 10000
     },
     "inputWidgets": {},
     "nuid": "4b261109-0293-4eb7-ab12-044abcd6a229",
     "showTitle": false,
     "tableResultSettingsMap": {},
     "title": ""
    }
   },
   "outputs": [
    {
     "name": "stdout",
     "output_type": "stream",
     "text": [
      "root\n",
      " |-- appointment_id: integer (nullable = true)\n",
      " |-- appointment_timestamp: timestamp (nullable = true)\n",
      " |-- appointment_date: date (nullable = true)\n",
      " |-- appointment_year: string (nullable = true)\n",
      " |-- appointment_month: string (nullable = true)\n",
      " |-- appointment_day: integer (nullable = true)\n",
      " |-- patient_id: integer (nullable = true)\n",
      " |-- doctor_id: integer (nullable = true)\n",
      " |-- ingestion_date: timestamp (nullable = false)\n",
      "\n"
     ]
    }
   ],
   "source": [
    "appointments_cleaned_df.printSchema()"
   ]
  },
  {
   "cell_type": "code",
   "execution_count": 0,
   "metadata": {
    "application/vnd.databricks.v1+cell": {
     "cellMetadata": {
      "byteLimit": 2048000,
      "rowLimit": 10000
     },
     "inputWidgets": {},
     "nuid": "37f2ff9d-c97c-4749-b6fd-ac644fe90c74",
     "showTitle": false,
     "tableResultSettingsMap": {},
     "title": ""
    }
   },
   "outputs": [],
   "source": [
    "appointments_cleaned_df.write.mode(\"overwrite\").parquet(f\"abfss://source@projectadf.dfs.core.windows.net/appointments\")"
   ]
  },
  {
   "cell_type": "code",
   "execution_count": 0,
   "metadata": {
    "application/vnd.databricks.v1+cell": {
     "cellMetadata": {
      "byteLimit": 2048000,
      "rowLimit": 10000
     },
     "inputWidgets": {},
     "nuid": "84a46641-2947-461f-8cba-a268bf2d8b80",
     "showTitle": false,
     "tableResultSettingsMap": {},
     "title": ""
    }
   },
   "outputs": [
    {
     "data": {
      "text/html": [
       "<style scoped>\n",
       "  .table-result-container {\n",
       "    max-height: 300px;\n",
       "    overflow: auto;\n",
       "  }\n",
       "  table, th, td {\n",
       "    border: 1px solid black;\n",
       "    border-collapse: collapse;\n",
       "  }\n",
       "  th, td {\n",
       "    padding: 5px;\n",
       "  }\n",
       "  th {\n",
       "    text-align: left;\n",
       "  }\n",
       "</style><div class='table-result-container'><table class='table-result'><thead style='background-color: white'><tr><th>appointment_id</th><th>appointment_timestamp</th><th>appointment_date</th><th>appointment_year</th><th>appointment_month</th><th>appointment_day</th><th>patient_id</th><th>doctor_id</th><th>ingestion_date</th></tr></thead><tbody><tr><td>105</td><td>2023-12-23T14:33:46.41Z</td><td>2020-01-29</td><td>2020</td><td>01</td><td>29</td><td>270</td><td>912</td><td>2025-08-25T09:28:06.146Z</td></tr><tr><td>109</td><td>2023-12-23T14:33:46.41Z</td><td>2020-11-08</td><td>2020</td><td>11</td><td>8</td><td>439</td><td>480</td><td>2025-08-25T09:28:06.146Z</td></tr><tr><td>121</td><td>2023-12-23T14:33:46.411Z</td><td>2020-04-17</td><td>2020</td><td>04</td><td>17</td><td>323</td><td>660</td><td>2025-08-25T09:28:06.146Z</td></tr><tr><td>126</td><td>2023-12-23T14:33:46.414Z</td><td>2020-07-12</td><td>2020</td><td>07</td><td>12</td><td>190</td><td>731</td><td>2025-08-25T09:28:06.146Z</td></tr><tr><td>131</td><td>2023-12-23T14:33:46.41Z</td><td>2020-12-24</td><td>2020</td><td>12</td><td>24</td><td>927</td><td>449</td><td>2025-08-25T09:28:06.146Z</td></tr></tbody></table></div>"
      ]
     },
     "metadata": {
      "application/vnd.databricks.v1+output": {
       "addedWidgets": {},
       "aggData": [],
       "aggError": "",
       "aggOverflow": false,
       "aggSchema": [],
       "aggSeriesLimitReached": false,
       "aggType": "",
       "arguments": {},
       "columnCustomDisplayInfos": {},
       "data": [
        [
         105,
         "2023-12-23T14:33:46.41Z",
         "2020-01-29",
         "2020",
         "01",
         29,
         270,
         912,
         "2025-08-25T09:28:06.146Z"
        ],
        [
         109,
         "2023-12-23T14:33:46.41Z",
         "2020-11-08",
         "2020",
         "11",
         8,
         439,
         480,
         "2025-08-25T09:28:06.146Z"
        ],
        [
         121,
         "2023-12-23T14:33:46.411Z",
         "2020-04-17",
         "2020",
         "04",
         17,
         323,
         660,
         "2025-08-25T09:28:06.146Z"
        ],
        [
         126,
         "2023-12-23T14:33:46.414Z",
         "2020-07-12",
         "2020",
         "07",
         12,
         190,
         731,
         "2025-08-25T09:28:06.146Z"
        ],
        [
         131,
         "2023-12-23T14:33:46.41Z",
         "2020-12-24",
         "2020",
         "12",
         24,
         927,
         449,
         "2025-08-25T09:28:06.146Z"
        ]
       ],
       "datasetInfos": [],
       "dbfsResultPath": null,
       "isJsonSchema": true,
       "metadata": {},
       "overflow": false,
       "plotOptions": {
        "customPlotOptions": {},
        "displayType": "table",
        "pivotAggregation": null,
        "pivotColumns": null,
        "xColumns": null,
        "yColumns": null
       },
       "removedWidgets": [],
       "schema": [
        {
         "metadata": "{}",
         "name": "appointment_id",
         "type": "\"integer\""
        },
        {
         "metadata": "{}",
         "name": "appointment_timestamp",
         "type": "\"timestamp\""
        },
        {
         "metadata": "{}",
         "name": "appointment_date",
         "type": "\"date\""
        },
        {
         "metadata": "{}",
         "name": "appointment_year",
         "type": "\"string\""
        },
        {
         "metadata": "{}",
         "name": "appointment_month",
         "type": "\"string\""
        },
        {
         "metadata": "{}",
         "name": "appointment_day",
         "type": "\"integer\""
        },
        {
         "metadata": "{}",
         "name": "patient_id",
         "type": "\"integer\""
        },
        {
         "metadata": "{}",
         "name": "doctor_id",
         "type": "\"integer\""
        },
        {
         "metadata": "{}",
         "name": "ingestion_date",
         "type": "\"timestamp\""
        }
       ],
       "type": "table"
      }
     },
     "output_type": "display_data"
    },
    {
     "name": "stdout",
     "output_type": "stream",
     "text": [
      "Appointments ingestion completed successfully!\n"
     ]
    }
   ],
   "source": [
    "display(spark.read.table(\"healthcare_processed.appointment\").limit(5))\n",
    "print(\"Appointments ingestion completed successfully!\")"
   ]
  },
  {
   "cell_type": "code",
   "execution_count": 0,
   "metadata": {
    "application/vnd.databricks.v1+cell": {
     "cellMetadata": {
      "byteLimit": 2048000,
      "rowLimit": 10000
     },
     "inputWidgets": {},
     "nuid": "441cd94c-9529-44aa-92f5-3029bf7841f1",
     "showTitle": false,
     "tableResultSettingsMap": {},
     "title": ""
    }
   },
   "outputs": [],
   "source": [
    "dbutils.notebook.exit(\"Success\")"
   ]
  }
 ],
 "metadata": {
  "application/vnd.databricks.v1+notebook": {
   "computePreferences": {
    "hardware": {
     "accelerator": null,
     "gpuPoolId": null,
     "memory": null
    }
   },
   "dashboards": [],
   "environmentMetadata": {
    "base_environment": "",
    "environment_version": "3"
   },
   "inputWidgetPreferences": null,
   "language": "python",
   "notebookMetadata": {
    "mostRecentlyExecutedCommandWithImplicitDF": {
     "commandId": 5503576765082138,
     "dataframes": [
      "_sqldf"
     ]
    },
    "pythonIndentUnit": 4
   },
   "notebookName": "ingest_appoinment",
   "widgets": {}
  },
  "language_info": {
   "name": "python"
  }
 },
 "nbformat": 4,
 "nbformat_minor": 0
}
