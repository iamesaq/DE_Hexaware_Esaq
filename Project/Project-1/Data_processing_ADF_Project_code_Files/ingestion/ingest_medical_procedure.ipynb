{
 "cells": [
  {
   "cell_type": "code",
   "execution_count": 0,
   "metadata": {
    "application/vnd.databricks.v1+cell": {
     "cellMetadata": {
      "byteLimit": 2048000,
      "rowLimit": 10000
     },
     "inputWidgets": {},
     "nuid": "080f2672-571e-4dd3-a80b-07ff70fcf32d",
     "showTitle": false,
     "tableResultSettingsMap": {},
     "title": ""
    }
   },
   "outputs": [],
   "source": [
    "spark.conf.set(\n",
    "    \"fs.azure.account.key.projectadf.dfs.core.windows.net\",\n",
    "    \"\")"
   ]
  },
  {
   "cell_type": "code",
   "execution_count": 0,
   "metadata": {
    "application/vnd.databricks.v1+cell": {
     "cellMetadata": {
      "byteLimit": 2048000,
      "rowLimit": 10000
     },
     "inputWidgets": {},
     "nuid": "c5177d4e-13ff-4d0f-ad14-96f9f3741d59",
     "showTitle": false,
     "tableResultSettingsMap": {},
     "title": ""
    }
   },
   "outputs": [],
   "source": [
    "from pyspark.sql.functions import col, trim, lower, initcap, current_timestamp\n",
    "\n",
    "procedures_raw_df = spark.read.table(\"healthcare_raw.medical_procedure\")\n"
   ]
  },
  {
   "cell_type": "code",
   "execution_count": 0,
   "metadata": {
    "application/vnd.databricks.v1+cell": {
     "cellMetadata": {
      "byteLimit": 2048000,
      "rowLimit": 10000
     },
     "inputWidgets": {},
     "nuid": "84bc9236-4d0b-4344-8c50-1beccb7a7856",
     "showTitle": false,
     "tableResultSettingsMap": {},
     "title": ""
    }
   },
   "outputs": [],
   "source": [
    "procedures_cleaned_df = (procedures_raw_df\n",
    "    # Clean text fields\n",
    "    .withColumn(\"procedure_name\", trim(initcap(col(\"ProcedureName\"))))\n",
    "    \n",
    "    # Data validation: Ensure required fields are present\n",
    "    .filter(col(\"ProcedureName\").isNotNull() & col(\"AppointmentID\").isNotNull())\n",
    "    \n",
    "    # Remove duplicates (same procedure for same appointment shouldn't happen)\n",
    "    .dropDuplicates([\"ProcedureID\", \"AppointmentID\"])\n",
    "    \n",
    "    # Add audit column\n",
    "    .withColumn(\"ingestion_date\", current_timestamp())\n",
    "    \n",
    "    # Select and rename final columns\n",
    "    .select(\n",
    "        col(\"ProcedureID\").alias(\"procedure_id\"),\n",
    "        \"procedure_name\",\n",
    "        col(\"AppointmentID\").alias(\"appointment_id\"),\n",
    "        \"ingestion_date\"\n",
    "    )\n",
    ")\n"
   ]
  },
  {
   "cell_type": "code",
   "execution_count": 0,
   "metadata": {
    "application/vnd.databricks.v1+cell": {
     "cellMetadata": {
      "byteLimit": 2048000,
      "rowLimit": 10000
     },
     "inputWidgets": {},
     "nuid": "69d91814-42e3-4266-89e5-55703b75b2c1",
     "showTitle": false,
     "tableResultSettingsMap": {},
     "title": ""
    }
   },
   "outputs": [],
   "source": [
    "procedures_cleaned_df.write.mode(\"overwrite\").format(\"delta\").saveAsTable(\"healthcare_processed.medical_procedures\")\n",
    "\n",
    "# Write to cloud storage\n",
    "procedures_cleaned_df.write.mode(\"overwrite\").parquet(f\"abfss://source@projectadf.dfs.core.windows.net/medical_procedures\")\n"
   ]
  },
  {
   "cell_type": "code",
   "execution_count": 0,
   "metadata": {
    "application/vnd.databricks.v1+cell": {
     "cellMetadata": {
      "byteLimit": 2048000,
      "rowLimit": 10000
     },
     "inputWidgets": {},
     "nuid": "9cfcef92-4467-4db0-8271-72c08a4ef4d5",
     "showTitle": false,
     "tableResultSettingsMap": {},
     "title": ""
    }
   },
   "outputs": [],
   "source": [
    "dbutils.notebook.exit(\"Success\")"
   ]
  }
 ],
 "metadata": {
  "application/vnd.databricks.v1+notebook": {
   "computePreferences": null,
   "dashboards": [],
   "environmentMetadata": {
    "base_environment": "",
    "environment_version": "3"
   },
   "inputWidgetPreferences": null,
   "language": "python",
   "notebookMetadata": {
    "pythonIndentUnit": 4
   },
   "notebookName": "ingest_medical_procedure",
   "widgets": {}
  },
  "language_info": {
   "name": "python"
  }
 },
 "nbformat": 4,
 "nbformat_minor": 0
}
