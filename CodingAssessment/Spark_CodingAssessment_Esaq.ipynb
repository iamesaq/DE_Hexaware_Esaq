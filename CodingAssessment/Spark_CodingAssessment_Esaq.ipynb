{
 "cells": [
  {
   "cell_type": "markdown",
   "id": "8edc05e2",
   "metadata": {},
   "source": [
    "# **Spark Coding Assessment**\n",
    "##### by Esaq"
   ]
  },
  {
   "cell_type": "markdown",
   "id": "47e35b81",
   "metadata": {},
   "source": [
    "### 1. Create a SparkSession"
   ]
  },
  {
   "cell_type": "code",
   "execution_count": 28,
   "id": "fc96e375",
   "metadata": {},
   "outputs": [],
   "source": [
    "from pyspark.sql import SparkSession\n",
    "from pyspark.sql.functions import concat_ws, col, max, sum, min, avg\n",
    "\n",
    "spark = SparkSession.builder.appName(\"PySpark Transformations and Actions\").getOrCreate()"
   ]
  },
  {
   "cell_type": "markdown",
   "id": "1edd8efd",
   "metadata": {},
   "source": [
    "### 2. Load the orders.csv file into a DataFrame"
   ]
  },
  {
   "cell_type": "code",
   "execution_count": 2,
   "id": "0c4754f2",
   "metadata": {},
   "outputs": [],
   "source": [
    "orders_df = spark.read.csv(\"orders.csv\", header=True, inferSchema=True)"
   ]
  },
  {
   "cell_type": "markdown",
   "id": "7f2cb526",
   "metadata": {},
   "source": [
    "### **PERFORMING TRANSFORMATIONS**\n",
    "### 3. Select specific columns\n",
    "### We create a new DataFrame that only contains 'cust_fname', 'cust_lname', and 'cust_order'."
   ]
  },
  {
   "cell_type": "code",
   "execution_count": 4,
   "id": "802a023a",
   "metadata": {},
   "outputs": [
    {
     "name": "stdout",
     "output_type": "stream",
     "text": [
      "+----------+----------+----------+\n",
      "|cust_fname|cust_lname|cust_order|\n",
      "+----------+----------+----------+\n",
      "|      john|       doe|         5|\n",
      "|      jane|     smith|         8|\n",
      "|   micheal|   jhonson|         3|\n",
      "|      abhi|   wiliams|         1|\n",
      "|       ram|     brown|         4|\n",
      "|     emily|  anderson|         2|\n",
      "|   william|     jones|        10|\n",
      "|     susan|     davis|         7|\n",
      "|     david|    miller|         9|\n",
      "|      sara|     moore|         2|\n",
      "|     james|    tailor|         5|\n",
      "|    olivia|    wilson|         3|\n",
      "|    robert|     evans|        11|\n",
      "|      emma|    thomas|        29|\n",
      "|    mathew|     haris|         5|\n",
      "|  isabella|     white|         6|\n",
      "|    joseph|    martin|         4|\n",
      "|     grace|       lee|         5|\n",
      "|chrisopher|      basa|         8|\n",
      "|       ava|    joesph|         3|\n",
      "+----------+----------+----------+\n",
      "\n"
     ]
    }
   ],
   "source": [
    "orders_df.select(\"cust_fname\", \"cust_lname\", \"cust_order\").show()"
   ]
  },
  {
   "cell_type": "markdown",
   "id": "fa666d69",
   "metadata": {},
   "source": [
    "### 4. Filter rows based on a condition\n",
    "### We create a new DataFrame with only 'active' customers."
   ]
  },
  {
   "cell_type": "code",
   "execution_count": 6,
   "id": "b0214644",
   "metadata": {},
   "outputs": [
    {
     "name": "stdout",
     "output_type": "stream",
     "text": [
      "+-------+----------+----------+----------+-----------+\n",
      "|cust_id|cust_fname|cust_lname|cust_order|cust_status|\n",
      "+-------+----------+----------+----------+-----------+\n",
      "|      1|      john|       doe|         5|     active|\n",
      "|      2|      jane|     smith|         8|     active|\n",
      "|      4|      abhi|   wiliams|         1|     active|\n",
      "|      6|     emily|  anderson|         2|     active|\n",
      "|      7|   william|     jones|        10|     active|\n",
      "|      9|     david|    miller|         9|     active|\n",
      "|     13|    robert|     evans|        11|     active|\n",
      "|     14|      emma|    thomas|        29|     active|\n",
      "|     18|     grace|       lee|         5|     active|\n",
      "|     20|       ava|    joesph|         3|     active|\n",
      "+-------+----------+----------+----------+-----------+\n",
      "\n"
     ]
    }
   ],
   "source": [
    "orders_df.filter(orders_df.cust_status == \"active\").show()"
   ]
  },
  {
   "cell_type": "markdown",
   "id": "efbfa350",
   "metadata": {},
   "source": [
    "### 5. Group by 'cust_status' and count\n",
    "### Here, groupBy() is a transformation, but we need an aggregation ACTION (like count())\n",
    "### to trigger the computation and return a result."
   ]
  },
  {
   "cell_type": "code",
   "execution_count": 7,
   "id": "96723b06",
   "metadata": {},
   "outputs": [
    {
     "name": "stdout",
     "output_type": "stream",
     "text": [
      "+-----------+-----+\n",
      "|cust_status|count|\n",
      "+-----------+-----+\n",
      "|     active|   10|\n",
      "|   inactive|   10|\n",
      "+-----------+-----+\n",
      "\n"
     ]
    }
   ],
   "source": [
    "orders_df.groupBy(\"cust_status\").count().show()"
   ]
  },
  {
   "cell_type": "markdown",
   "id": "a2bb9500",
   "metadata": {},
   "source": [
    "### 6. Sort the DataFrame\n",
    "### We sort the DataFrame by 'cust_order' in descending order."
   ]
  },
  {
   "cell_type": "code",
   "execution_count": 10,
   "id": "2dc23779",
   "metadata": {},
   "outputs": [
    {
     "name": "stdout",
     "output_type": "stream",
     "text": [
      "+-------+----------+----------+----------+-----------+\n",
      "|cust_id|cust_fname|cust_lname|cust_order|cust_status|\n",
      "+-------+----------+----------+----------+-----------+\n",
      "|      4|      abhi|   wiliams|         1|     active|\n",
      "|      6|     emily|  anderson|         2|     active|\n",
      "|     10|      sara|     moore|         2|   inactive|\n",
      "|      3|   micheal|   jhonson|         3|   inactive|\n",
      "|     12|    olivia|    wilson|         3|   inactive|\n",
      "|     20|       ava|    joesph|         3|     active|\n",
      "|      5|       ram|     brown|         4|   inactive|\n",
      "|     17|    joseph|    martin|         4|   inactive|\n",
      "|      1|      john|       doe|         5|     active|\n",
      "|     11|     james|    tailor|         5|   inactive|\n",
      "|     15|    mathew|     haris|         5|   inactive|\n",
      "|     18|     grace|       lee|         5|     active|\n",
      "|     16|  isabella|     white|         6|   inactive|\n",
      "|      8|     susan|     davis|         7|   inactive|\n",
      "|      2|      jane|     smith|         8|     active|\n",
      "|     19|chrisopher|      basa|         8|   inactive|\n",
      "|      9|     david|    miller|         9|     active|\n",
      "|      7|   william|     jones|        10|     active|\n",
      "|     13|    robert|     evans|        11|     active|\n",
      "|     14|      emma|    thomas|        29|     active|\n",
      "+-------+----------+----------+----------+-----------+\n",
      "\n"
     ]
    }
   ],
   "source": [
    "orders_df.orderBy(orders_df.cust_order.asc()).show()"
   ]
  },
  {
   "cell_type": "markdown",
   "id": "9e649e9c",
   "metadata": {},
   "source": [
    "### 7. Limit returns first 'n' no. of rows\n",
    "### We return the first 5 rows from the orders dataframe"
   ]
  },
  {
   "cell_type": "code",
   "execution_count": 11,
   "id": "6fda19db",
   "metadata": {},
   "outputs": [
    {
     "name": "stdout",
     "output_type": "stream",
     "text": [
      "+-------+----------+----------+----------+-----------+\n",
      "|cust_id|cust_fname|cust_lname|cust_order|cust_status|\n",
      "+-------+----------+----------+----------+-----------+\n",
      "|      1|      john|       doe|         5|     active|\n",
      "|      2|      jane|     smith|         8|     active|\n",
      "|      3|   micheal|   jhonson|         3|   inactive|\n",
      "|      4|      abhi|   wiliams|         1|     active|\n",
      "|      5|       ram|     brown|         4|   inactive|\n",
      "+-------+----------+----------+----------+-----------+\n",
      "\n"
     ]
    }
   ],
   "source": [
    "orders_df.limit(5).show()"
   ]
  },
  {
   "cell_type": "markdown",
   "id": "ea83ec93",
   "metadata": {},
   "source": [
    "### Loading a new CSV file for join operation in Transformation"
   ]
  },
  {
   "cell_type": "code",
   "execution_count": 12,
   "id": "86fb6766",
   "metadata": {},
   "outputs": [
    {
     "name": "stdout",
     "output_type": "stream",
     "text": [
      "+--------+-------+------------+--------+-----+----------+\n",
      "|order_id|cust_id|product_name|quantity|price|order_date|\n",
      "+--------+-------+------------+--------+-----+----------+\n",
      "|    1000|      1|     Monitor|       5| 2930|2025-06-03|\n",
      "|    1001|      1|      Laptop|       3| 2211|2025-05-14|\n",
      "|    1002|      2|       Mouse|       1|   73|2024-08-28|\n",
      "|    1003|      3|    Keyboard|       2| 1124|2025-05-15|\n",
      "|    1004|      4|  Headphones|       3|  600|2025-04-26|\n",
      "|    1005|      4|       Mouse|       3| 2967|2025-02-17|\n",
      "|    1006|      5|  Headphones|       2| 1316|2024-11-07|\n",
      "|    1007|      5|     Monitor|       4|  228|2024-09-09|\n",
      "|    1008|      6|       Mouse|       5| 4980|2025-05-30|\n",
      "|    1009|      6|  Headphones|       5| 2240|2025-04-01|\n",
      "|    1010|      6|      Laptop|       3| 2523|2024-12-28|\n",
      "|    1011|      7|      Tablet|       1|  437|2025-05-24|\n",
      "|    1012|      7|  Headphones|       4| 2436|2024-12-07|\n",
      "|    1013|      7|       Mouse|       1|  534|2025-07-23|\n",
      "|    1014|      8|  Smartphone|       1|  454|2024-12-10|\n",
      "|    1015|      8|      Tablet|       5| 1085|2025-02-10|\n",
      "|    1016|      9|      Laptop|       4| 1456|2024-10-04|\n",
      "|    1017|      9|    Keyboard|       1|  445|2024-11-17|\n",
      "|    1018|      9|      Tablet|       3| 1125|2025-01-11|\n",
      "|    1019|     10|      Tablet|       3|  465|2024-09-28|\n",
      "+--------+-------+------------+--------+-----+----------+\n",
      "only showing top 20 rows\n"
     ]
    }
   ],
   "source": [
    "order_details_df = spark.read.csv(\"order_details.csv\", header=True, inferSchema=True)\n",
    "order_details_df.show()"
   ]
  },
  {
   "cell_type": "markdown",
   "id": "0aafa953",
   "metadata": {},
   "source": [
    "### 8. Joining two dataframes\n",
    "### We join orders and order details dataframe using a common key \"cust_id\""
   ]
  },
  {
   "cell_type": "code",
   "execution_count": 36,
   "id": "95949653",
   "metadata": {},
   "outputs": [],
   "source": [
    "df_joined = orders_df.join(order_details_df, on=\"cust_id\", how=\"inner\")"
   ]
  },
  {
   "cell_type": "code",
   "execution_count": 14,
   "id": "fd8b2c4d",
   "metadata": {},
   "outputs": [
    {
     "name": "stdout",
     "output_type": "stream",
     "text": [
      "+-------+----------+----------+----------+-----------+--------+------------+--------+-----+----------+\n",
      "|cust_id|cust_fname|cust_lname|cust_order|cust_status|order_id|product_name|quantity|price|order_date|\n",
      "+-------+----------+----------+----------+-----------+--------+------------+--------+-----+----------+\n",
      "|      1|      john|       doe|         5|     active|    1000|     Monitor|       5| 2930|2025-06-03|\n",
      "|      1|      john|       doe|         5|     active|    1001|      Laptop|       3| 2211|2025-05-14|\n",
      "|      2|      jane|     smith|         8|     active|    1002|       Mouse|       1|   73|2024-08-28|\n",
      "|      3|   micheal|   jhonson|         3|   inactive|    1003|    Keyboard|       2| 1124|2025-05-15|\n",
      "|      4|      abhi|   wiliams|         1|     active|    1004|  Headphones|       3|  600|2025-04-26|\n",
      "|      4|      abhi|   wiliams|         1|     active|    1005|       Mouse|       3| 2967|2025-02-17|\n",
      "|      5|       ram|     brown|         4|   inactive|    1006|  Headphones|       2| 1316|2024-11-07|\n",
      "|      5|       ram|     brown|         4|   inactive|    1007|     Monitor|       4|  228|2024-09-09|\n",
      "|      6|     emily|  anderson|         2|     active|    1008|       Mouse|       5| 4980|2025-05-30|\n",
      "|      6|     emily|  anderson|         2|     active|    1009|  Headphones|       5| 2240|2025-04-01|\n",
      "|      6|     emily|  anderson|         2|     active|    1010|      Laptop|       3| 2523|2024-12-28|\n",
      "|      7|   william|     jones|        10|     active|    1011|      Tablet|       1|  437|2025-05-24|\n",
      "|      7|   william|     jones|        10|     active|    1012|  Headphones|       4| 2436|2024-12-07|\n",
      "|      7|   william|     jones|        10|     active|    1013|       Mouse|       1|  534|2025-07-23|\n",
      "|      8|     susan|     davis|         7|   inactive|    1014|  Smartphone|       1|  454|2024-12-10|\n",
      "|      8|     susan|     davis|         7|   inactive|    1015|      Tablet|       5| 1085|2025-02-10|\n",
      "|      9|     david|    miller|         9|     active|    1016|      Laptop|       4| 1456|2024-10-04|\n",
      "|      9|     david|    miller|         9|     active|    1017|    Keyboard|       1|  445|2024-11-17|\n",
      "|      9|     david|    miller|         9|     active|    1018|      Tablet|       3| 1125|2025-01-11|\n",
      "|     10|      sara|     moore|         2|   inactive|    1019|      Tablet|       3|  465|2024-09-28|\n",
      "+-------+----------+----------+----------+-----------+--------+------------+--------+-----+----------+\n",
      "only showing top 20 rows\n"
     ]
    }
   ],
   "source": [
    "df_joined.show()"
   ]
  },
  {
   "cell_type": "markdown",
   "id": "d343c110",
   "metadata": {},
   "source": [
    "### **PERFORMING ACTIONS**\n",
    "### 9. Get the total number of records from the joined DataFrame\n",
    "### count() returns a single value to the driver."
   ]
  },
  {
   "cell_type": "code",
   "execution_count": 37,
   "id": "b90ff868",
   "metadata": {},
   "outputs": [
    {
     "name": "stdout",
     "output_type": "stream",
     "text": [
      "Total records in joined table is  39\n"
     ]
    }
   ],
   "source": [
    "total_joined_records = df_joined.count()\n",
    "print(\"Total records in joined table is \", total_joined_records)"
   ]
  },
  {
   "cell_type": "markdown",
   "id": "e1a0b10a",
   "metadata": {},
   "source": [
    "### 10. Take the first few rows and print\n",
    "### take() returns a list of Row objects to the driver.\n",
    "### This should be used on small datasets or after filtering."
   ]
  },
  {
   "cell_type": "code",
   "execution_count": 16,
   "id": "bbbcafde",
   "metadata": {},
   "outputs": [
    {
     "name": "stdout",
     "output_type": "stream",
     "text": [
      "[Row(cust_id=1, cust_fname='john', cust_lname='doe', cust_order=5, cust_status='active'), Row(cust_id=2, cust_fname='jane', cust_lname='smith', cust_order=8, cust_status='active')]\n"
     ]
    }
   ],
   "source": [
    "first_two_rows = orders_df.take(2)\n",
    "print(first_two_rows)"
   ]
  },
  {
   "cell_type": "markdown",
   "id": "59c3548c",
   "metadata": {},
   "source": [
    "### 11. Collect all active customers by Filtering\n",
    "### collect() brings all the data to the driver. We should only do this on small datasets after filtering.\n",
    "### We'll first filter() and then collect()."
   ]
  },
  {
   "cell_type": "code",
   "execution_count": 20,
   "id": "3bc20909",
   "metadata": {},
   "outputs": [
    {
     "name": "stdout",
     "output_type": "stream",
     "text": [
      "No. of active customers is  10\n",
      "First row of active customer list is  Row(cust_id=1, cust_fname='john', cust_lname='doe', cust_order=5, cust_status='active')\n"
     ]
    }
   ],
   "source": [
    "active_cust_list = orders_df.filter(col(\"cust_status\")==\"active\").collect()\n",
    "print(\"No. of active customers is \", len(active_cust_list))\n",
    "print(\"First row of active customer list is \", active_cust_list[0])"
   ]
  },
  {
   "cell_type": "markdown",
   "id": "2c6a4fa5",
   "metadata": {},
   "source": [
    "### 12. Getting the max element from the dataframe\n",
    "### max() function should be imported before use, it can be used while performing groupBy function as well."
   ]
  },
  {
   "cell_type": "code",
   "execution_count": 27,
   "id": "b93c5d92",
   "metadata": {},
   "outputs": [
    {
     "name": "stdout",
     "output_type": "stream",
     "text": [
      "+---------------+\n",
      "|max(cust_order)|\n",
      "+---------------+\n",
      "|             29|\n",
      "+---------------+\n",
      "\n"
     ]
    }
   ],
   "source": [
    "orders_df.select(max('cust_order')).show()"
   ]
  },
  {
   "cell_type": "markdown",
   "id": "d5b24946",
   "metadata": {},
   "source": [
    "### 13. Getting the total amount spent on orders by each customer.\n",
    "#### We are using groupBy(), agg() aggregation function, sum(), alias() to give temporary column name, orderBy() to sort by Customer ID"
   ]
  },
  {
   "cell_type": "code",
   "execution_count": 38,
   "id": "e28f85b6",
   "metadata": {},
   "outputs": [
    {
     "name": "stdout",
     "output_type": "stream",
     "text": [
      "+-------+----------+\n",
      "|cust_id|sum(price)|\n",
      "+-------+----------+\n",
      "|      1|      5141|\n",
      "|      2|        73|\n",
      "|      3|      1124|\n",
      "|      4|      3567|\n",
      "|      5|      1544|\n",
      "|      6|      9743|\n",
      "|      7|      3407|\n",
      "|      8|      1539|\n",
      "|      9|      3026|\n",
      "|     10|      1581|\n",
      "|     11|      2617|\n",
      "|     12|      1512|\n",
      "|     13|      3206|\n",
      "|     14|      2782|\n",
      "|     15|      3973|\n",
      "|     16|      1050|\n",
      "|     17|       252|\n",
      "|     18|      1533|\n",
      "|     19|      2127|\n",
      "|     20|      6188|\n",
      "+-------+----------+\n",
      "\n"
     ]
    }
   ],
   "source": [
    "order_details_df.groupBy(\"cust_id\").agg(sum(\"price\")).alias(\"total_spent\").orderBy(\"cust_id\").show()"
   ]
  }
 ],
 "metadata": {
  "kernelspec": {
   "display_name": "Python 3",
   "language": "python",
   "name": "python3"
  },
  "language_info": {
   "codemirror_mode": {
    "name": "ipython",
    "version": 3
   },
   "file_extension": ".py",
   "mimetype": "text/x-python",
   "name": "python",
   "nbconvert_exporter": "python",
   "pygments_lexer": "ipython3",
   "version": "3.13.5"
  }
 },
 "nbformat": 4,
 "nbformat_minor": 5
}
