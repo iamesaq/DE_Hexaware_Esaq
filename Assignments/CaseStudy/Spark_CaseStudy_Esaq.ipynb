{
 "cells": [
  {
   "cell_type": "markdown",
   "id": "a624a2e7",
   "metadata": {},
   "source": [
    "# Apache Spark Case Study\n",
    "##### by Esaq"
   ]
  },
  {
   "cell_type": "code",
   "execution_count": 4,
   "id": "77bb0765",
   "metadata": {},
   "outputs": [
    {
     "name": "stderr",
     "output_type": "stream",
     "text": [
      "WARNING: Using incubator modules: jdk.incubator.vector\n",
      "Using Spark's default log4j profile: org/apache/spark/log4j2-defaults.properties\n",
      "Setting default log level to \"WARN\".\n",
      "To adjust logging level use sc.setLogLevel(newLevel). For SparkR, use setLogLevel(newLevel).\n",
      "25/08/05 17:14:06 WARN NativeCodeLoader: Unable to load native-hadoop library for your platform... using builtin-java classes where applicable\n"
     ]
    }
   ],
   "source": [
    "from pyspark import SparkContext\n",
    "from pyspark.sql import SparkSession\n",
    "from pyspark.sql.functions import col, count, max, min, sum, to_date, regexp_replace\n",
    "\n",
    "spark = SparkSession.builder.appName('BankApp').getOrCreate()"
   ]
  },
  {
   "cell_type": "markdown",
   "id": "8010c62f",
   "metadata": {},
   "source": [
    "### Loading the CSV files as Dataframes"
   ]
  },
  {
   "cell_type": "code",
   "execution_count": 5,
   "id": "23b41e86",
   "metadata": {},
   "outputs": [],
   "source": [
    "loan_df = spark.read.csv(\"loan.csv\", header=True, inferSchema=True)\n",
    "credit_df = spark.read.csv('credit card.csv', header=True, inferSchema=True)\n",
    "txn_df = spark.read.csv(\"txn.csv\", header= True, inferSchema=True)"
   ]
  },
  {
   "cell_type": "markdown",
   "id": "9397c259",
   "metadata": {},
   "source": [
    "## Loan CSV\n",
    "### No. of Loans in Each Category"
   ]
  },
  {
   "cell_type": "code",
   "execution_count": 6,
   "id": "dc2d53bd",
   "metadata": {},
   "outputs": [
    {
     "name": "stdout",
     "output_type": "stream",
     "text": [
      "+------------------+-----+\n",
      "|     Loan Category|count|\n",
      "+------------------+-----+\n",
      "|           HOUSING|   67|\n",
      "|        TRAVELLING|   53|\n",
      "|       BOOK STORES|    7|\n",
      "|       AGRICULTURE|   12|\n",
      "|         GOLD LOAN|   77|\n",
      "|  EDUCATIONAL LOAN|   20|\n",
      "|        AUTOMOBILE|   60|\n",
      "|          BUSINESS|   24|\n",
      "|COMPUTER SOFTWARES|   35|\n",
      "|           DINNING|   14|\n",
      "|          SHOPPING|   35|\n",
      "|       RESTAURANTS|   41|\n",
      "|       ELECTRONICS|   14|\n",
      "|          BUILDING|    7|\n",
      "|        RESTAURANT|   20|\n",
      "|   HOME APPLIANCES|   14|\n",
      "+------------------+-----+\n",
      "\n"
     ]
    }
   ],
   "source": [
    "loan_df.groupBy(\"Loan Category\").count().show()"
   ]
  },
  {
   "cell_type": "markdown",
   "id": "ea219159",
   "metadata": {},
   "source": [
    "### Cleaning the commas in the numbers\n",
    "### No. of People who have taken loan more than 100000"
   ]
  },
  {
   "cell_type": "code",
   "execution_count": 4,
   "id": "1d00cb38",
   "metadata": {},
   "outputs": [
    {
     "data": {
      "text/plain": [
       "450"
      ]
     },
     "execution_count": 4,
     "metadata": {},
     "output_type": "execute_result"
    }
   ],
   "source": [
    "loan_df = (loan_df\n",
    "        .withColumn(\"Loan Amount\", regexp_replace(col(\"Loan Amount\").cast(\"string\"), \",\", \"\"))\n",
    "        .withColumn(\"Loan Amount\", col(\"Loan Amount\").cast(\"int\"))\n",
    ")\n",
    "\n",
    "loan_df.filter(col(\"Loan Amount\")>100000).count()"
   ]
  },
  {
   "cell_type": "markdown",
   "id": "64e51a90",
   "metadata": {},
   "source": [
    "### No. of people with income greater than 60000"
   ]
  },
  {
   "cell_type": "code",
   "execution_count": 5,
   "id": "2d929c05",
   "metadata": {},
   "outputs": [
    {
     "data": {
      "text/plain": [
       "198"
      ]
     },
     "execution_count": 5,
     "metadata": {},
     "output_type": "execute_result"
    }
   ],
   "source": [
    "loan_df.filter(col(\"Income\")>60000).count()"
   ]
  },
  {
   "cell_type": "markdown",
   "id": "fa455796",
   "metadata": {},
   "source": [
    "### Number of people with 2 or more returned cheques and income less than 50000"
   ]
  },
  {
   "cell_type": "code",
   "execution_count": null,
   "id": "94c8af04",
   "metadata": {},
   "outputs": [
    {
     "data": {
      "text/plain": [
       "137"
      ]
     },
     "execution_count": 6,
     "metadata": {},
     "output_type": "execute_result"
    }
   ],
   "source": [
    "loan_df.filter((col(\" Returned Cheque\")>=2) & (col(\"Income\")<50000)).count()"
   ]
  },
  {
   "cell_type": "markdown",
   "id": "3499d61d",
   "metadata": {},
   "source": [
    "### Number of people with 2 or more returned cheques and are single\n"
   ]
  },
  {
   "cell_type": "code",
   "execution_count": null,
   "id": "111a74ef",
   "metadata": {},
   "outputs": [
    {
     "data": {
      "text/plain": [
       "111"
      ]
     },
     "execution_count": 7,
     "metadata": {},
     "output_type": "execute_result"
    }
   ],
   "source": [
    "loan_df.filter((col(\"Marital Status\")==\"SINGLE\") & (col(\" Returned Cheque\")>=2)).count()"
   ]
  },
  {
   "cell_type": "markdown",
   "id": "8275b778",
   "metadata": {},
   "source": [
    "### Number of people with expenditure over 50000 a month"
   ]
  },
  {
   "cell_type": "code",
   "execution_count": null,
   "id": "1c841e10",
   "metadata": {},
   "outputs": [
    {
     "data": {
      "text/plain": [
       "6"
      ]
     },
     "execution_count": 8,
     "metadata": {},
     "output_type": "execute_result"
    }
   ],
   "source": [
    "loan_df.filter(col(\"Expenditure\")>50000).count()"
   ]
  },
  {
   "cell_type": "markdown",
   "id": "345f46bd",
   "metadata": {},
   "source": [
    "## Credit Card CSV"
   ]
  },
  {
   "cell_type": "markdown",
   "id": "17ad325a",
   "metadata": {},
   "source": [
    "### Credit card users in Spain"
   ]
  },
  {
   "cell_type": "code",
   "execution_count": null,
   "id": "b1f45d35",
   "metadata": {},
   "outputs": [
    {
     "data": {
      "text/plain": [
       "2477"
      ]
     },
     "execution_count": 9,
     "metadata": {},
     "output_type": "execute_result"
    }
   ],
   "source": [
    "credit_df.filter(col(\"Geography\")==\"Spain\").count()"
   ]
  },
  {
   "cell_type": "markdown",
   "id": "41d1a262",
   "metadata": {},
   "source": [
    "## Transaction CSV"
   ]
  },
  {
   "cell_type": "markdown",
   "id": "341c9e88",
   "metadata": {},
   "source": [
    "### Maximum withdrawal amount in transactions\n"
   ]
  },
  {
   "cell_type": "code",
   "execution_count": null,
   "id": "337cd4ba",
   "metadata": {},
   "outputs": [
    {
     "name": "stdout",
     "output_type": "stream",
     "text": [
      "+---------------------+\n",
      "|max( WITHDRAWAL AMT )|\n",
      "+---------------------+\n",
      "|        4.594475464E8|\n",
      "+---------------------+\n",
      "\n"
     ]
    }
   ],
   "source": [
    "txn_df.select(max(' WITHDRAWAL AMT ')).show()"
   ]
  },
  {
   "cell_type": "markdown",
   "id": "290ad405",
   "metadata": {},
   "source": [
    "### MINIMUM WITHDRAWAL AMOUNT OF AN ACCOUNT in txn.csv\n"
   ]
  },
  {
   "cell_type": "code",
   "execution_count": null,
   "id": "7259f27d",
   "metadata": {},
   "outputs": [
    {
     "name": "stdout",
     "output_type": "stream",
     "text": [
      "+-------------------+\n",
      "|min(WITHDRAWAL AMT)|\n",
      "+-------------------+\n",
      "|               0.01|\n",
      "+-------------------+\n",
      "\n"
     ]
    }
   ],
   "source": [
    "txn_df.select(min('WITHDRAWAL AMT')).show()"
   ]
  },
  {
   "cell_type": "markdown",
   "id": "97dd0461",
   "metadata": {},
   "source": [
    "### MAXIMUM DEPOSIT AMOUNT OF AN ACCOUNT\n"
   ]
  },
  {
   "cell_type": "code",
   "execution_count": null,
   "id": "685da3e0",
   "metadata": {},
   "outputs": [
    {
     "name": "stdout",
     "output_type": "stream",
     "text": [
      "+----------------+\n",
      "|max(DEPOSIT AMT)|\n",
      "+----------------+\n",
      "|         5.448E8|\n",
      "+----------------+\n",
      "\n"
     ]
    }
   ],
   "source": [
    "txn_df.select(max('DEPOSIT AMT')).show()"
   ]
  },
  {
   "cell_type": "markdown",
   "id": "1e5e38e1",
   "metadata": {},
   "source": [
    "### MINIMUM DEPOSIT AMOUNT OF AN ACCOUNT\n"
   ]
  },
  {
   "cell_type": "code",
   "execution_count": null,
   "id": "16114c29",
   "metadata": {},
   "outputs": [
    {
     "name": "stdout",
     "output_type": "stream",
     "text": [
      "+----------------+\n",
      "|min(DEPOSIT AMT)|\n",
      "+----------------+\n",
      "|            0.01|\n",
      "+----------------+\n",
      "\n"
     ]
    }
   ],
   "source": [
    "txn_df.select(min('DEPOSIT AMT')).show()"
   ]
  },
  {
   "cell_type": "markdown",
   "id": "eb34078c",
   "metadata": {},
   "source": [
    "### Sum of balance in every bank account\n"
   ]
  },
  {
   "cell_type": "code",
   "execution_count": null,
   "id": "cf5b39d8",
   "metadata": {},
   "outputs": [
    {
     "name": "stdout",
     "output_type": "stream",
     "text": [
      "+-------------+--------------------+\n",
      "|   Account No|         Sum_Balance|\n",
      "+-------------+--------------------+\n",
      "|409000438611'|-2.49486577068339...|\n",
      "|     1196711'|-1.60476498101275E13|\n",
      "|     1196428'| -8.1418498130721E13|\n",
      "|409000493210'|-3.27584952132095...|\n",
      "|409000611074'|       1.615533622E9|\n",
      "|409000425051'|-3.77211841164998...|\n",
      "|409000405747'|-2.43108047067000...|\n",
      "|409000493201'|1.0420831829499985E9|\n",
      "|409000438620'|-7.12291867951358...|\n",
      "|409000362497'| -5.2860004792808E13|\n",
      "+-------------+--------------------+\n",
      "\n"
     ]
    }
   ],
   "source": [
    "txn_df.groupBy(\"Account No\").agg(sum(\"BALANCE AMT\").alias(\"Sum_Balance\")).show()"
   ]
  },
  {
   "cell_type": "markdown",
   "id": "5917a463",
   "metadata": {},
   "source": [
    "### Number of transaction on each date\n"
   ]
  },
  {
   "cell_type": "code",
   "execution_count": null,
   "id": "7c587940",
   "metadata": {},
   "outputs": [
    {
     "name": "stdout",
     "output_type": "stream",
     "text": [
      "+----------+-----+\n",
      "|VALUE DATE|count|\n",
      "+----------+-----+\n",
      "|  1-Apr-17|    1|\n",
      "|  1-Aug-15|   75|\n",
      "|  1-Aug-16|   85|\n",
      "|  1-Aug-17|   65|\n",
      "|  1-Aug-18|  144|\n",
      "|  1-Dec-15|   96|\n",
      "|  1-Dec-16|  106|\n",
      "|  1-Dec-17|   45|\n",
      "|  1-Dec-18|   97|\n",
      "|  1-Feb-16|   97|\n",
      "|  1-Feb-17|   81|\n",
      "|  1-Feb-18|   87|\n",
      "|  1-Feb-19|   79|\n",
      "|  1-Jan-15|    3|\n",
      "|  1-Jan-16|   59|\n",
      "|  1-Jan-18|   53|\n",
      "|  1-Jan-19|   57|\n",
      "|  1-Jul-15|   25|\n",
      "|  1-Jul-16|  111|\n",
      "|  1-Jul-17|  243|\n",
      "+----------+-----+\n",
      "only showing top 20 rows\n"
     ]
    }
   ],
   "source": [
    "txn_df.groupBy(\"VALUE DATE\").count().orderBy(\"VALUE DATE\").show()"
   ]
  },
  {
   "cell_type": "markdown",
   "id": "5e4c273d",
   "metadata": {},
   "source": [
    "### List of customers with withdrawal amount more than 1 lakh\n"
   ]
  },
  {
   "cell_type": "code",
   "execution_count": null,
   "id": "9572dbec",
   "metadata": {},
   "outputs": [
    {
     "name": "stdout",
     "output_type": "stream",
     "text": [
      "+-------------+----------------+----------+\n",
      "|   Account No| WITHDRAWAL AMT |VALUE DATE|\n",
      "+-------------+----------------+----------+\n",
      "|409000611074'|        133900.0| 16-Aug-17|\n",
      "|409000611074'|        195800.0| 16-Aug-17|\n",
      "|409000611074'|        143800.0| 16-Aug-17|\n",
      "|409000611074'|        331650.0| 16-Aug-17|\n",
      "|409000611074'|        129000.0| 16-Aug-17|\n",
      "|409000611074'|        230013.0| 16-Aug-17|\n",
      "|409000611074'|        367900.0| 16-Aug-17|\n",
      "|409000611074'|        108000.0| 16-Aug-17|\n",
      "|409000611074'|        141000.0| 16-Aug-17|\n",
      "|409000611074'|        206000.0| 16-Aug-17|\n",
      "|409000611074'|        242300.0|  6-Sep-17|\n",
      "|409000611074'|        113250.0|  6-Sep-17|\n",
      "|409000611074'|        206900.0|  6-Sep-17|\n",
      "|409000611074'|        276000.0|  6-Sep-17|\n",
      "|409000611074'|        171000.0|  6-Sep-17|\n",
      "|409000611074'|        189800.0|  6-Sep-17|\n",
      "|409000611074'|        271323.0|  6-Sep-17|\n",
      "|409000611074'|        200600.0|  6-Sep-17|\n",
      "|409000611074'|        176900.0|  6-Sep-17|\n",
      "|409000611074'|        150050.0|  6-Sep-17|\n",
      "+-------------+----------------+----------+\n",
      "only showing top 20 rows\n"
     ]
    }
   ],
   "source": [
    "txn_df.filter(col(\" WITHDRAWAL AMT \")>100000).select(\"Account No\", \" WITHDRAWAL AMT \", \"VALUE DATE\").show()"
   ]
  }
 ],
 "metadata": {
  "kernelspec": {
   "display_name": "Python 3",
   "language": "python",
   "name": "python3"
  },
  "language_info": {
   "codemirror_mode": {
    "name": "ipython",
    "version": 3
   },
   "file_extension": ".py",
   "mimetype": "text/x-python",
   "name": "python",
   "nbconvert_exporter": "python",
   "pygments_lexer": "ipython3",
   "version": "3.13.5"
  }
 },
 "nbformat": 4,
 "nbformat_minor": 5
}
